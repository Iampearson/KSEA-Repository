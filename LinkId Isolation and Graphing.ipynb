{
 "cells": [
  {
   "cell_type": "code",
   "execution_count": null,
   "metadata": {},
   "outputs": [],
   "source": [
    "filename = \"AndrosensorDataLinkIdsGraphed\"\n",
    "filehandler = open(filename,\"f\")\n",
    "for line in filehandler:\n",
    "    splint = line.split(\",\")\n",
    "    linkId = splint[0]\n",
    "    offset = splint[1]\n",
    "    speed = splint[2]\n",
    "    "
   ]
  }
 ],
 "metadata": {
  "kernelspec": {
   "display_name": "Python 3",
   "language": "python",
   "name": "python3"
  },
  "language_info": {
   "codemirror_mode": {
    "name": "ipython",
    "version": 3
   },
   "file_extension": ".py",
   "mimetype": "text/x-python",
   "name": "python",
   "nbconvert_exporter": "python",
   "pygments_lexer": "ipython3",
   "version": "3.6.5"
  }
 },
 "nbformat": 4,
 "nbformat_minor": 2
}
