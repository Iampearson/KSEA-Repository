{
 "cells": [
  {
   "cell_type": "code",
   "execution_count": 10,
   "metadata": {},
   "outputs": [],
   "source": [
    "first_part =\"\"\"\n",
    "<!DOCTYPE html>\n",
    "<html>\n",
    "<head>\n",
    "<meta name=\"viewport\" content=\"initial-scale=1.0, width=device-width\" />\n",
    "<link rel=\"stylesheet\" type=\"text/css\" href=\"https://js.api.here.com/v3/3.0/mapsjs-ui.css?dp-version=1542186754\" />\n",
    "<script type=\"text/javascript\" src=\"https://js.api.here.com/v3/3.0/mapsjs-core.js\"></script>\n",
    "<script type=\"text/javascript\" src=\"https://js.api.here.com/v3/3.0/mapsjs-service.js\"></script>\n",
    "<script type=\"text/javascript\" src=\"https://js.api.here.com/v3/3.0/mapsjs-ui.js\"></script>\n",
    "<script type=\"text/javascript\" src=\"https://js.api.here.com/v3/3.0/mapsjs-mapevents.js\"></script>\n",
    "\n",
    "</head>\n",
    "<body>\n",
    "  <div id=\"map\" style=\"width: 100%; height: 400px; background: grey\" />\n",
    "  <script  type=\"text/javascript\" charset=\"UTF-8\" >\n",
    "    \n",
    "\n",
    "/**\n",
    " * Adds markers to the map highlighting the locations of the captials of\n",
    " * France, Italy, Germany, Spain and the United Kingdom.\n",
    " *\n",
    " * @param  {H.Map} map      A HERE Map instance within the application\n",
    " */\n",
    "function addMarkersToMap(map) {\n",
    "  var parisMarker = new H.map.Marker({lat:48.8567, lng:2.3508});\n",
    "  map.addObject(parisMarker);\n",
    "  \n",
    "\"\"\"\n",
    "\n",
    "\n",
    "last_part = \"\"\"\n",
    "}\n",
    "\n",
    "\n",
    "\n",
    "\n",
    "\n",
    "/**\n",
    " * Boilerplate map initialization code starts below:\n",
    " */\n",
    "\n",
    "//Step 1: initialize communication with the platform\n",
    "var platform = new H.service.Platform({\n",
    "  app_id: 'devportal-demo-20180625',\n",
    "  app_code: '9v2BkviRwi9Ot26kp2IysQ',\n",
    "  useHTTPS: true\n",
    "});\n",
    "var pixelRatio = window.devicePixelRatio || 1;\n",
    "var defaultLayers = platform.createDefaultLayers({\n",
    "  tileSize: pixelRatio === 1 ? 256 : 512,\n",
    "  ppi: pixelRatio === 1 ? undefined : 320\n",
    "});\n",
    "\n",
    "//Step 2: initialize a map - this map is centered over Europe\n",
    "var map = new H.Map(document.getElementById('map'),\n",
    "  defaultLayers.normal.map,{\n",
    "  center: {lat:50, lng:5},\n",
    "  zoom: 4,\n",
    "  pixelRatio: pixelRatio\n",
    "});\n",
    "\n",
    "//Step 3: make the map interactive\n",
    "// MapEvents enables the event system\n",
    "// Behavior implements default interactions for pan/zoom (also on mobile touch environments)\n",
    "var behavior = new H.mapevents.Behavior(new H.mapevents.MapEvents(map));\n",
    "\n",
    "// Create the default UI components\n",
    "var ui = H.ui.UI.createDefault(map, defaultLayers);\n",
    "\n",
    "// Now use the map as required...\n",
    "addMarkersToMap(map);\n",
    "  </script>\n",
    "</body>\n",
    "</html>\n",
    "\"\"\""
   ]
  },
  {
   "cell_type": "code",
   "execution_count": 11,
   "metadata": {},
   "outputs": [
    {
     "data": {
      "text/plain": [
       "'\\n<!DOCTYPE html>\\n<html>\\n<head>\\n<meta name=\"viewport\" content=\"initial-scale=1.0, width=device-width\" />\\n<link rel=\"stylesheet\" type=\"text/css\" href=\"https://js.api.here.com/v3/3.0/mapsjs-ui.css?dp-version=1542186754\" />\\n<script type=\"text/javascript\" src=\"https://js.api.here.com/v3/3.0/mapsjs-core.js\"></script>\\n<script type=\"text/javascript\" src=\"https://js.api.here.com/v3/3.0/mapsjs-service.js\"></script>\\n<script type=\"text/javascript\" src=\"https://js.api.here.com/v3/3.0/mapsjs-ui.js\"></script>\\n<script type=\"text/javascript\" src=\"https://js.api.here.com/v3/3.0/mapsjs-mapevents.js\"></script>\\n\\n</head>\\n<body>\\n  <div id=\"map\" style=\"width: 100%; height: 400px; background: grey\" />\\n  <script  type=\"text/javascript\" charset=\"UTF-8\" >\\n    \\n\\n/**\\n * Adds markers to the map highlighting the locations of the captials of\\n * France, Italy, Germany, Spain and the United Kingdom.\\n *\\n * @param  {H.Map} map      A HERE Map instance within the application\\n */\\nfunction addMarkersToMap(map) {\\n  var parisMarker = new H.map.Marker({lat:48.8567, lng:2.3508});\\n  map.addObject(parisMarker);\\n  \\n'"
      ]
     },
     "execution_count": 11,
     "metadata": {},
     "output_type": "execute_result"
    }
   ],
   "source": [
    "first_part"
   ]
  },
  {
   "cell_type": "code",
   "execution_count": 12,
   "metadata": {
    "scrolled": true
   },
   "outputs": [
    {
     "data": {
      "text/plain": [
       "\"\\n}\\n\\n\\n\\n\\n\\n/**\\n * Boilerplate map initialization code starts below:\\n */\\n\\n//Step 1: initialize communication with the platform\\nvar platform = new H.service.Platform({\\n  app_id: 'devportal-demo-20180625',\\n  app_code: '9v2BkviRwi9Ot26kp2IysQ',\\n  useHTTPS: true\\n});\\nvar pixelRatio = window.devicePixelRatio || 1;\\nvar defaultLayers = platform.createDefaultLayers({\\n  tileSize: pixelRatio === 1 ? 256 : 512,\\n  ppi: pixelRatio === 1 ? undefined : 320\\n});\\n\\n//Step 2: initialize a map - this map is centered over Europe\\nvar map = new H.Map(document.getElementById('map'),\\n  defaultLayers.normal.map,{\\n  center: {lat:50, lng:5},\\n  zoom: 4,\\n  pixelRatio: pixelRatio\\n});\\n\\n//Step 3: make the map interactive\\n// MapEvents enables the event system\\n// Behavior implements default interactions for pan/zoom (also on mobile touch environments)\\nvar behavior = new H.mapevents.Behavior(new H.mapevents.MapEvents(map));\\n\\n// Create the default UI components\\nvar ui = H.ui.UI.createDefault(map, defaultLayers);\\n\\n// Now use the map as required...\\naddMarkersToMap(map);\\n  </script>\\n</body>\\n</html>\\n\""
      ]
     },
     "execution_count": 12,
     "metadata": {},
     "output_type": "execute_result"
    }
   ],
   "source": [
    "last_part"
   ]
  },
  {
   "cell_type": "code",
   "execution_count": 13,
   "metadata": {},
   "outputs": [],
   "source": [
    "def construct_middle_part(points):\n",
    "    \"\"\"\n",
    "    input\n",
    "    \n",
    "    points: [(lat,lng),(lat,lng),...]\n",
    "    \n",
    "    output\n",
    "    \n",
    "    string of \n",
    "         var parisMarker = new H.map.Marker({lat:48.8567, lng:2.3508});\n",
    "         map.addObject(parisMarker);\n",
    "    \"\"\"\n",
    "    \n",
    "    output_str =\"\"\n",
    "    for p in points:\n",
    "        output_str += \"\"\"var parisMarker = new H.map.Marker({lat:%f, lng:%f});\n",
    "         map.addObject(parisMarker);\n",
    "        \"\"\" % (p[0],p[1])\n",
    "        \n",
    "    return output_str"
   ]
  },
  {
   "cell_type": "code",
   "execution_count": 15,
   "metadata": {},
   "outputs": [
    {
     "data": {
      "text/plain": [
       "'var parisMarker = new H.map.Marker({lat:48.856700, lng:2.350800});\\n         map.addObject(parisMarker);\\n        var parisMarker = new H.map.Marker({lat:41.900000, lng:12.500000});\\n         map.addObject(parisMarker);\\n        var parisMarker = new H.map.Marker({lat:52.516600, lng:13.383300});\\n         map.addObject(parisMarker);\\n        '"
      ]
     },
     "execution_count": 15,
     "metadata": {},
     "output_type": "execute_result"
    }
   ],
   "source": [
    "points = [(48.8567, 2.3508), (41.9, 12.5), (52.5166, 13.3833)]\n",
    "\n",
    "middle_part = construct_middle_part(points)\n",
    "middle_part"
   ]
  },
  {
   "cell_type": "code",
   "execution_count": 17,
   "metadata": {},
   "outputs": [
    {
     "data": {
      "text/plain": [
       "'\\n<!DOCTYPE html>\\n<html>\\n<head>\\n<meta name=\"viewport\" content=\"initial-scale=1.0, width=device-width\" />\\n<link rel=\"stylesheet\" type=\"text/css\" href=\"https://js.api.here.com/v3/3.0/mapsjs-ui.css?dp-version=1542186754\" />\\n<script type=\"text/javascript\" src=\"https://js.api.here.com/v3/3.0/mapsjs-core.js\"></script>\\n<script type=\"text/javascript\" src=\"https://js.api.here.com/v3/3.0/mapsjs-service.js\"></script>\\n<script type=\"text/javascript\" src=\"https://js.api.here.com/v3/3.0/mapsjs-ui.js\"></script>\\n<script type=\"text/javascript\" src=\"https://js.api.here.com/v3/3.0/mapsjs-mapevents.js\"></script>\\n\\n</head>\\n<body>\\n  <div id=\"map\" style=\"width: 100%; height: 400px; background: grey\" />\\n  <script  type=\"text/javascript\" charset=\"UTF-8\" >\\n    \\n\\n/**\\n * Adds markers to the map highlighting the locations of the captials of\\n * France, Italy, Germany, Spain and the United Kingdom.\\n *\\n * @param  {H.Map} map      A HERE Map instance within the application\\n */\\nfunction addMarkersToMap(map) {\\n  var parisMarker = new H.map.Marker({lat:48.8567, lng:2.3508});\\n  map.addObject(parisMarker);\\n  \\nvar parisMarker = new H.map.Marker({lat:48.856700, lng:2.350800});\\n         map.addObject(parisMarker);\\n        var parisMarker = new H.map.Marker({lat:41.900000, lng:12.500000});\\n         map.addObject(parisMarker);\\n        var parisMarker = new H.map.Marker({lat:52.516600, lng:13.383300});\\n         map.addObject(parisMarker);\\n        \\n}\\n\\n\\n\\n\\n\\n/**\\n * Boilerplate map initialization code starts below:\\n */\\n\\n//Step 1: initialize communication with the platform\\nvar platform = new H.service.Platform({\\n  app_id: \\'devportal-demo-20180625\\',\\n  app_code: \\'9v2BkviRwi9Ot26kp2IysQ\\',\\n  useHTTPS: true\\n});\\nvar pixelRatio = window.devicePixelRatio || 1;\\nvar defaultLayers = platform.createDefaultLayers({\\n  tileSize: pixelRatio === 1 ? 256 : 512,\\n  ppi: pixelRatio === 1 ? undefined : 320\\n});\\n\\n//Step 2: initialize a map - this map is centered over Europe\\nvar map = new H.Map(document.getElementById(\\'map\\'),\\n  defaultLayers.normal.map,{\\n  center: {lat:50, lng:5},\\n  zoom: 4,\\n  pixelRatio: pixelRatio\\n});\\n\\n//Step 3: make the map interactive\\n// MapEvents enables the event system\\n// Behavior implements default interactions for pan/zoom (also on mobile touch environments)\\nvar behavior = new H.mapevents.Behavior(new H.mapevents.MapEvents(map));\\n\\n// Create the default UI components\\nvar ui = H.ui.UI.createDefault(map, defaultLayers);\\n\\n// Now use the map as required...\\naddMarkersToMap(map);\\n  </script>\\n</body>\\n</html>\\n'"
      ]
     },
     "execution_count": 17,
     "metadata": {},
     "output_type": "execute_result"
    }
   ],
   "source": [
    "whole = first_part + middle_part + last_part\n",
    "whole"
   ]
  },
  {
   "cell_type": "code",
   "execution_count": 18,
   "metadata": {},
   "outputs": [
    {
     "data": {
      "text/html": [
       "\n",
       "<!DOCTYPE html>\n",
       "<html>\n",
       "<head>\n",
       "<meta name=\"viewport\" content=\"initial-scale=1.0, width=device-width\" />\n",
       "<link rel=\"stylesheet\" type=\"text/css\" href=\"https://js.api.here.com/v3/3.0/mapsjs-ui.css?dp-version=1542186754\" />\n",
       "<script type=\"text/javascript\" src=\"https://js.api.here.com/v3/3.0/mapsjs-core.js\"></script>\n",
       "<script type=\"text/javascript\" src=\"https://js.api.here.com/v3/3.0/mapsjs-service.js\"></script>\n",
       "<script type=\"text/javascript\" src=\"https://js.api.here.com/v3/3.0/mapsjs-ui.js\"></script>\n",
       "<script type=\"text/javascript\" src=\"https://js.api.here.com/v3/3.0/mapsjs-mapevents.js\"></script>\n",
       "\n",
       "</head>\n",
       "<body>\n",
       "  <div id=\"map\" style=\"width: 100%; height: 400px; background: grey\" />\n",
       "  <script  type=\"text/javascript\" charset=\"UTF-8\" >\n",
       "    \n",
       "\n",
       "/**\n",
       " * Adds markers to the map highlighting the locations of the captials of\n",
       " * France, Italy, Germany, Spain and the United Kingdom.\n",
       " *\n",
       " * @param  {H.Map} map      A HERE Map instance within the application\n",
       " */\n",
       "function addMarkersToMap(map) {\n",
       "  var parisMarker = new H.map.Marker({lat:48.8567, lng:2.3508});\n",
       "  map.addObject(parisMarker);\n",
       "  \n",
       "var parisMarker = new H.map.Marker({lat:48.856700, lng:2.350800});\n",
       "         map.addObject(parisMarker);\n",
       "        var parisMarker = new H.map.Marker({lat:41.900000, lng:12.500000});\n",
       "         map.addObject(parisMarker);\n",
       "        var parisMarker = new H.map.Marker({lat:52.516600, lng:13.383300});\n",
       "         map.addObject(parisMarker);\n",
       "        \n",
       "}\n",
       "\n",
       "\n",
       "\n",
       "\n",
       "\n",
       "/**\n",
       " * Boilerplate map initialization code starts below:\n",
       " */\n",
       "\n",
       "//Step 1: initialize communication with the platform\n",
       "var platform = new H.service.Platform({\n",
       "  app_id: 'devportal-demo-20180625',\n",
       "  app_code: '9v2BkviRwi9Ot26kp2IysQ',\n",
       "  useHTTPS: true\n",
       "});\n",
       "var pixelRatio = window.devicePixelRatio || 1;\n",
       "var defaultLayers = platform.createDefaultLayers({\n",
       "  tileSize: pixelRatio === 1 ? 256 : 512,\n",
       "  ppi: pixelRatio === 1 ? undefined : 320\n",
       "});\n",
       "\n",
       "//Step 2: initialize a map - this map is centered over Europe\n",
       "var map = new H.Map(document.getElementById('map'),\n",
       "  defaultLayers.normal.map,{\n",
       "  center: {lat:50, lng:5},\n",
       "  zoom: 4,\n",
       "  pixelRatio: pixelRatio\n",
       "});\n",
       "\n",
       "//Step 3: make the map interactive\n",
       "// MapEvents enables the event system\n",
       "// Behavior implements default interactions for pan/zoom (also on mobile touch environments)\n",
       "var behavior = new H.mapevents.Behavior(new H.mapevents.MapEvents(map));\n",
       "\n",
       "// Create the default UI components\n",
       "var ui = H.ui.UI.createDefault(map, defaultLayers);\n",
       "\n",
       "// Now use the map as required...\n",
       "addMarkersToMap(map);\n",
       "  </script>\n",
       "</body>\n",
       "</html>\n"
      ],
      "text/plain": [
       "<IPython.core.display.HTML object>"
      ]
     },
     "metadata": {},
     "output_type": "display_data"
    }
   ],
   "source": [
    "#tried to run html from jupyter but it doesn't work\n",
    "from IPython.display import HTML\n",
    "display(HTML(whole))"
   ]
  },
  {
   "cell_type": "code",
   "execution_count": 20,
   "metadata": {},
   "outputs": [],
   "source": [
    "f = open(\"markers.html\",\"w\")\n",
    "f.write(whole)\n",
    "f.close()"
   ]
  },
  {
   "cell_type": "code",
   "execution_count": null,
   "metadata": {},
   "outputs": [],
   "source": []
  }
 ],
 "metadata": {
  "kernelspec": {
   "display_name": "Python 3",
   "language": "python",
   "name": "python3"
  },
  "language_info": {
   "codemirror_mode": {
    "name": "ipython",
    "version": 3
   },
   "file_extension": ".py",
   "mimetype": "text/x-python",
   "name": "python",
   "nbconvert_exporter": "python",
   "pygments_lexer": "ipython3",
   "version": "3.6.5"
  }
 },
 "nbformat": 4,
 "nbformat_minor": 2
}
