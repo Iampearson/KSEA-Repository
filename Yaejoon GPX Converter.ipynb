{
 "cells": [
  {
   "cell_type": "code",
   "execution_count": 32,
   "metadata": {},
   "outputs": [],
   "source": [
    "filename = \"AndrosensorDataYaejoonForGPX.csv\"\n",
    "filehandler = open(filename,\"r\")\n",
    "count = 0\n",
    "bigstr = \"\"\n",
    "for line in filehandler:\n",
    "    if count>=0:\n",
    "        sploot = line.split(\",\")\n",
    "        temp = []\n",
    "        for lon in [0]:\n",
    "                temp.append(sploot[lon])\n",
    "        for lat in [1]:\n",
    "                temp.append(sploot[lat])\n",
    "        tempstr = \"\"\n",
    "        for lat in temp:\n",
    "            for lon in temp:\n",
    "                tempstr = tempstr + \"\\n\" + \"<trkpt lat=\\\"\" + lat + \"\\\"\" + \" \" + \"lon=\\\"\" + lon +\"\\\"/>\" +\"\\n\"\n",
    "        tempstr = tempstr[:-1]\n",
    "        bigstr = bigstr + tempstr\n",
    "    count += 1\n",
    "#bigstr = \"sep=;\\n\" + bigstr\n",
    "filehandler.close()\n",
    "filehandler = open(\"AndrosensorDataYaejoon.gpx\",\"w\")\n",
    "filehandler.write(bigstr)\n",
    "filehandler.close()\n",
    "\n"
   ]
  },
  {
   "cell_type": "code",
   "execution_count": null,
   "metadata": {},
   "outputs": [],
   "source": []
  },
  {
   "cell_type": "code",
   "execution_count": null,
   "metadata": {},
   "outputs": [],
   "source": []
  }
 ],
 "metadata": {
  "kernelspec": {
   "display_name": "Python 3",
   "language": "python",
   "name": "python3"
  },
  "language_info": {
   "codemirror_mode": {
    "name": "ipython",
    "version": 3
   },
   "file_extension": ".py",
   "mimetype": "text/x-python",
   "name": "python",
   "nbconvert_exporter": "python",
   "pygments_lexer": "ipython3",
   "version": "3.6.5"
  }
 },
 "nbformat": 4,
 "nbformat_minor": 2
}
