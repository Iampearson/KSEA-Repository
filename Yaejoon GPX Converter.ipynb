{
 "cells": [
  {
   "cell_type": "code",
   "execution_count": 2,
   "metadata": {},
   "outputs": [],
   "source": [
    "filename = \"AndrosensorDataYaejoon.csv\"\n",
    "filehandler = open(filename,\"r\")\n",
    "count = 0\n",
    "bigstr = \"\"\n",
    "for line in filehandler:\n",
    "    if count>=0:\n",
    "        sploot = line.split(\",\")\n",
    "        lat = sploot[0]\n",
    "        lon = sploot[1]\n",
    "        hed = sploot[3]\n",
    "        tempstr = \"\\n<trkpt lat=\\\"\" + lat + \"\\\"\" + \" \" + \"lon=\\\"\" + lon +\"\\\" hed=\\\"\" + hed + \"\\\"/>\\n\"\n",
    "        bigstr += tempstr\n",
    "    count += 1\n",
    "#bigstr = \"sep=;\\n\" + bigstr\n",
    "filehandler.close()\n",
    "filehandler = open(\"AndrosensorDataYaejoon.gpx\",\"w\")\n",
    "filehandler.write(bigstr)\n",
    "filehandler.close()\n",
    "        \n"
   ]
  },
  {
   "cell_type": "code",
   "execution_count": null,
   "metadata": {},
   "outputs": [],
   "source": []
  },
  {
   "cell_type": "code",
   "execution_count": null,
   "metadata": {},
   "outputs": [],
   "source": []
  }
 ],
 "metadata": {
  "kernelspec": {
   "display_name": "Python 3",
   "language": "python",
   "name": "python3"
  },
  "language_info": {
   "codemirror_mode": {
    "name": "ipython",
    "version": 3
   },
   "file_extension": ".py",
   "mimetype": "text/x-python",
   "name": "python",
   "nbconvert_exporter": "python",
   "pygments_lexer": "ipython3",
   "version": "3.6.5"
  }
 },
 "nbformat": 4,
 "nbformat_minor": 2
}
