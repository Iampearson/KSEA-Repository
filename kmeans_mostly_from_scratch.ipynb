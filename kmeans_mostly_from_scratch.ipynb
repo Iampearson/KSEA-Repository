{
 "cells": [
  {
   "cell_type": "code",
   "execution_count": 13,
   "metadata": {},
   "outputs": [],
   "source": [
    "#To insure that the same random result happens\n",
    "import random\n",
    "import math\n",
    "from math import sqrt\n",
    "\n",
    "random.seed(63428974)\n",
    "\n",
    "\n",
    "#For the distance formula\n",
    "def dformula(px,py):\n",
    "    return sqrt((px[0]-py[0])**2+(px[1]-py[1])**2)\n",
    "\n",
    "\n",
    "#For getting the mean of a set of points\n",
    "def get_mean(points):\n",
    "    number_of_points = len(points)\n",
    "    \n",
    "    sum_of_points = [0,0]\n",
    "    for point in points:\n",
    "        sum_of_points[0] += point[0]\n",
    "        sum_of_points[1] += point[1]\n",
    "        \n",
    "    sum_of_points[0] = sum_of_points[0]/number_of_points\n",
    "    sum_of_points[1] = sum_of_points[1]/number_of_points\n",
    "    \n",
    "    return sum_of_points\n",
    "\n",
    "\n",
    "#For finding out how many times the centroid shifted\n",
    "def associate(centers, points, associated):\n",
    "    number_of_changes = 0\n",
    "    for ip, point in enumerate(points):\n",
    "        closest = None\n",
    "        minimum_distance = 1000000000\n",
    "        for ic, center in enumerate(centers):\n",
    "            distance = distance(point, center)\n",
    "            if distance < minimum_distance:\n",
    "                minimum_distance = dist\n",
    "                closest = ic\n",
    "                if closest is None: print(\"The code doesn't work\")\n",
    "                    \n",
    "                if associated[ip] != closest:\n",
    "                    associated[ip] = closest\n",
    "                    \n",
    "                    number_of_changes += 1\n",
    "            return float(nchanged)/len(points)\n",
    "        \n",
    "        \n",
    "#For getting the centroids \n",
    "def get_centroids(points, associated, kcls):\n",
    "    center_points = [[] for _ in range(kcls)]\n",
    "    for ip, point in enumerate(points):\n",
    "        center_points[associated[ip]].append(point)\n",
    "    centroids = []\n",
    "    for icls in range(kcls):\n",
    "        mean = get_mean(center_points[icls])\n",
    "        centroids.append(mean)\n",
    "    return centroids\n",
    "\n",
    "\n",
    "#For putting everything together in the actual k-means function\n",
    "def kmeans(points, kcls, max_iterations = 2000, minimum_shift_fraction = 0.01):\n",
    "    \n",
    "    #To make sure the number of points doesn't go over the kcl\n",
    "    number_of_points = len(points)\n",
    "    if number_of_points <= kcls**2:\n",
    "        kcls = int(sqrt(number_of_points))\n",
    "    \n",
    "    #To \n",
    "    centers = random.sample(points, kcls)\n",
    "    associated = [0 for _ in points]\n",
    "    for iter in range(max_iterations):\n",
    "        changed_fraction = associate(centers, points, associated)\n",
    "        if changed_fraction <= minimum_shift_fraction:\n",
    "            print(\"changed_fraction({}) reached to minimum_shift_fraction({})\".format(changed_fraction, minimum_shift_fraction))\n",
    "            break\n",
    "        if iter == max_iterations-1:\n",
    "            print(\"max_iterations({}) reached.\".format(iter))\n",
    "    return associated"
   ]
  },
  {
   "cell_type": "code",
   "execution_count": null,
   "metadata": {},
   "outputs": [],
   "source": [
    "#After this is just the sample data from your file"
   ]
  },
  {
   "cell_type": "code",
   "execution_count": 14,
   "metadata": {},
   "outputs": [],
   "source": [
    "def generate_sample(ref_point, std, n):\n",
    "    points = []\n",
    "    for _ in range(n):\n",
    "        p = [random.gauss(ref_point[0], std[0]), random.gauss(ref_point[1], std[1])]\n",
    "        points.append(p)\n",
    "    return points\n",
    "\n",
    "p1 = [1,2]\n",
    "p2 = [5,3]\n",
    "p3 = [2,6]\n",
    "data1 = generate_sample(p1, [0.8, 0.7], 30)\n",
    "data2 = generate_sample(p2, [1.3, 1.5], 40)\n",
    "data3 = generate_sample(p3, [1.0, 1.1], 30)\n",
    "data = []\n",
    "data = data + data1 + data2 + data3\n"
   ]
  },
  {
   "cell_type": "code",
   "execution_count": 15,
   "metadata": {},
   "outputs": [
    {
     "data": {
      "text/plain": [
       "<matplotlib.collections.PathCollection at 0x235de04b6d8>"
      ]
     },
     "execution_count": 15,
     "metadata": {},
     "output_type": "execute_result"
    }
   ],
   "source": [
    "import matplotlib.pyplot as plt\n",
    "\n",
    "plt.scatter([x[0] for x in data1], [x[1] for x in data1], marker=\"*\")\n",
    "plt.scatter([x[0] for x in data2], [x[1] for x in data2], marker=\"o\")\n",
    "plt.scatter([x[0] for x in data3], [x[1] for x in data3], marker=\"^\")\n"
   ]
  },
  {
   "cell_type": "code",
   "execution_count": 16,
   "metadata": {},
   "outputs": [
    {
     "data": {
      "text/plain": [
       "<matplotlib.collections.PathCollection at 0x235de252320>"
      ]
     },
     "execution_count": 16,
     "metadata": {},
     "output_type": "execute_result"
    },
    {
     "data": {
      "image/png": "[encoded data removed]",
      "text/plain": [
       "<Figure size 432x288 with 1 Axes>"
      ]
     },
     "metadata": {},
     "output_type": "display_data"
    }
   ],
   "source": [
    "plt.scatter([x[0] for x in data], [x[1] for x in data], c=\"black\", marker=\"o\")"
   ]
  },
  {
   "cell_type": "code",
   "execution_count": 18,
   "metadata": {},
   "outputs": [
    {
     "ename": "NameError",
     "evalue": "name 'distance' is not defined",
     "output_type": "error",
     "traceback": [
      "\u001b[1;31m---------------------------------------------------------------------------\u001b[0m",
      "\u001b[1;31mNameError\u001b[0m                                 Traceback (most recent call last)",
      "\u001b[1;32m<ipython-input-18-e1654e260cfd>\u001b[0m in \u001b[0;36m<module>\u001b[1;34m()\u001b[0m\n\u001b[0;32m      1\u001b[0m \u001b[0mkcls\u001b[0m \u001b[1;33m=\u001b[0m \u001b[1;36m3\u001b[0m\u001b[1;33m\u001b[0m\u001b[0m\n\u001b[1;32m----> 2\u001b[1;33m \u001b[0massociated\u001b[0m \u001b[1;33m=\u001b[0m \u001b[0mkmeans\u001b[0m\u001b[1;33m(\u001b[0m\u001b[0mdata\u001b[0m\u001b[1;33m,\u001b[0m \u001b[0mkcls\u001b[0m\u001b[1;33m,\u001b[0m \u001b[0mmax_iterations\u001b[0m\u001b[1;33m=\u001b[0m\u001b[1;36m500\u001b[0m\u001b[1;33m,\u001b[0m \u001b[0mminimum_shift_fraction\u001b[0m\u001b[1;33m=\u001b[0m\u001b[1;36m0.01\u001b[0m\u001b[1;33m)\u001b[0m\u001b[1;33m\u001b[0m\u001b[0m\n\u001b[0m\u001b[0;32m      3\u001b[0m \u001b[0mcentroids\u001b[0m \u001b[1;33m=\u001b[0m \u001b[0mget_centroids\u001b[0m\u001b[1;33m(\u001b[0m\u001b[0mdata\u001b[0m\u001b[1;33m,\u001b[0m \u001b[0massociated\u001b[0m\u001b[1;33m,\u001b[0m \u001b[0mkcls\u001b[0m\u001b[1;33m)\u001b[0m\u001b[1;33m\u001b[0m\u001b[0m\n",
      "\u001b[1;32m<ipython-input-13-df092629b98c>\u001b[0m in \u001b[0;36mkmeans\u001b[1;34m(points, kcls, max_iterations, minimum_shift_fraction)\u001b[0m\n\u001b[0;32m     71\u001b[0m     \u001b[0massociated\u001b[0m \u001b[1;33m=\u001b[0m \u001b[1;33m[\u001b[0m\u001b[1;36m0\u001b[0m \u001b[1;32mfor\u001b[0m \u001b[0m_\u001b[0m \u001b[1;32min\u001b[0m \u001b[0mpoints\u001b[0m\u001b[1;33m]\u001b[0m\u001b[1;33m\u001b[0m\u001b[0m\n\u001b[0;32m     72\u001b[0m     \u001b[1;32mfor\u001b[0m \u001b[0miter\u001b[0m \u001b[1;32min\u001b[0m \u001b[0mrange\u001b[0m\u001b[1;33m(\u001b[0m\u001b[0mmax_iterations\u001b[0m\u001b[1;33m)\u001b[0m\u001b[1;33m:\u001b[0m\u001b[1;33m\u001b[0m\u001b[0m\n\u001b[1;32m---> 73\u001b[1;33m         \u001b[0mchanged_fraction\u001b[0m \u001b[1;33m=\u001b[0m \u001b[0massociate\u001b[0m\u001b[1;33m(\u001b[0m\u001b[0mcenters\u001b[0m\u001b[1;33m,\u001b[0m \u001b[0mpoints\u001b[0m\u001b[1;33m,\u001b[0m \u001b[0massociated\u001b[0m\u001b[1;33m)\u001b[0m\u001b[1;33m\u001b[0m\u001b[0m\n\u001b[0m\u001b[0;32m     74\u001b[0m         \u001b[1;32mif\u001b[0m \u001b[0mchanged_fraction\u001b[0m \u001b[1;33m<=\u001b[0m \u001b[0mminimum_shift_fraction\u001b[0m\u001b[1;33m:\u001b[0m\u001b[1;33m\u001b[0m\u001b[0m\n\u001b[0;32m     75\u001b[0m             \u001b[0mprint\u001b[0m\u001b[1;33m(\u001b[0m\u001b[1;34m\"changed_fraction({}) reached to minimum_shift_fraction({})\"\u001b[0m\u001b[1;33m.\u001b[0m\u001b[0mformat\u001b[0m\u001b[1;33m(\u001b[0m\u001b[0mchanged_fraction\u001b[0m\u001b[1;33m,\u001b[0m \u001b[0mminimum_shift_fraction\u001b[0m\u001b[1;33m)\u001b[0m\u001b[1;33m)\u001b[0m\u001b[1;33m\u001b[0m\u001b[0m\n",
      "\u001b[1;32m<ipython-input-13-df092629b98c>\u001b[0m in \u001b[0;36massociate\u001b[1;34m(centers, points, associated)\u001b[0m\n\u001b[0;32m     34\u001b[0m         \u001b[0mminimum_distance\u001b[0m \u001b[1;33m=\u001b[0m \u001b[1;36m1000000000\u001b[0m\u001b[1;33m\u001b[0m\u001b[0m\n\u001b[0;32m     35\u001b[0m         \u001b[1;32mfor\u001b[0m \u001b[0mic\u001b[0m\u001b[1;33m,\u001b[0m \u001b[0mcenter\u001b[0m \u001b[1;32min\u001b[0m \u001b[0menumerate\u001b[0m\u001b[1;33m(\u001b[0m\u001b[0mcenters\u001b[0m\u001b[1;33m)\u001b[0m\u001b[1;33m:\u001b[0m\u001b[1;33m\u001b[0m\u001b[0m\n\u001b[1;32m---> 36\u001b[1;33m             \u001b[0mdist\u001b[0m \u001b[1;33m=\u001b[0m \u001b[0mdistance\u001b[0m\u001b[1;33m(\u001b[0m\u001b[0mpoint\u001b[0m\u001b[1;33m,\u001b[0m \u001b[0mcenter\u001b[0m\u001b[1;33m)\u001b[0m\u001b[1;33m\u001b[0m\u001b[0m\n\u001b[0m\u001b[0;32m     37\u001b[0m             \u001b[1;32mif\u001b[0m \u001b[0mdist\u001b[0m \u001b[1;33m<\u001b[0m \u001b[0mminimum_distance\u001b[0m\u001b[1;33m:\u001b[0m\u001b[1;33m\u001b[0m\u001b[0m\n\u001b[0;32m     38\u001b[0m                 \u001b[0mminimum_distance\u001b[0m \u001b[1;33m=\u001b[0m \u001b[0mdist\u001b[0m\u001b[1;33m\u001b[0m\u001b[0m\n",
      "\u001b[1;31mNameError\u001b[0m: name 'distance' is not defined"
     ]
    }
   ],
   "source": [
    "kcls = 3\n",
    "associated = kmeans(data, kcls, max_iterations=500, minimum_shift_fraction=0.01)\n",
    "centroids = get_centroids(data, associated, kcls)"
   ]
  },
  {
   "cell_type": "code",
   "execution_count": 19,
   "metadata": {},
   "outputs": [
    {
     "ename": "NameError",
     "evalue": "name 'associated' is not defined",
     "output_type": "error",
     "traceback": [
      "\u001b[1;31m---------------------------------------------------------------------------\u001b[0m",
      "\u001b[1;31mNameError\u001b[0m                                 Traceback (most recent call last)",
      "\u001b[1;32m<ipython-input-19-a9aee376eb99>\u001b[0m in \u001b[0;36m<module>\u001b[1;34m()\u001b[0m\n\u001b[0;32m      1\u001b[0m \u001b[0massociated_colors\u001b[0m \u001b[1;33m=\u001b[0m \u001b[1;33m[\u001b[0m\u001b[1;33m]\u001b[0m\u001b[1;33m\u001b[0m\u001b[0m\n\u001b[1;32m----> 2\u001b[1;33m \u001b[1;32mfor\u001b[0m \u001b[0ma\u001b[0m \u001b[1;32min\u001b[0m \u001b[0massociated\u001b[0m\u001b[1;33m:\u001b[0m\u001b[1;33m\u001b[0m\u001b[0m\n\u001b[0m\u001b[0;32m      3\u001b[0m     \u001b[0mc\u001b[0m \u001b[1;33m=\u001b[0m \u001b[1;34m\"black\"\u001b[0m\u001b[1;33m\u001b[0m\u001b[0m\n\u001b[0;32m      4\u001b[0m     \u001b[1;32mif\u001b[0m \u001b[0ma\u001b[0m \u001b[1;33m==\u001b[0m \u001b[1;36m0\u001b[0m\u001b[1;33m:\u001b[0m \u001b[0mc\u001b[0m \u001b[1;33m=\u001b[0m \u001b[1;34m\"red\"\u001b[0m\u001b[1;33m\u001b[0m\u001b[0m\n\u001b[0;32m      5\u001b[0m     \u001b[1;32melif\u001b[0m \u001b[0ma\u001b[0m \u001b[1;33m==\u001b[0m \u001b[1;36m1\u001b[0m\u001b[1;33m:\u001b[0m \u001b[0mc\u001b[0m \u001b[1;33m=\u001b[0m \u001b[1;34m\"green\"\u001b[0m\u001b[1;33m\u001b[0m\u001b[0m\n",
      "\u001b[1;31mNameError\u001b[0m: name 'associated' is not defined"
     ]
    }
   ],
   "source": [
    "associated_colors = []\n",
    "for a in associated:\n",
    "    c = \"black\"\n",
    "    if a == 0: c = \"red\"\n",
    "    elif a == 1: c = \"green\"\n",
    "    elif a == 2: c = \"blue\"\n",
    "    associated_colors.append(c)\n",
    "plt.scatter([x[0] for x in data], [x[1] for x in data], c=associated_colors, marker=\"o\")\n",
    "plt.scatter(centroids[0][0], centroids[0][1], s=250, c=\"red\", marker=\"*\")\n",
    "plt.scatter(centroids[1][0], centroids[1][1], s=250, c=\"green\", marker=\"*\")\n",
    "plt.scatter(centroids[2][0], centroids[2][1], s=250, c=\"blue\", marker=\"*\")\n"
   ]
  },
  {
   "cell_type": "code",
   "execution_count": null,
   "metadata": {},
   "outputs": [],
   "source": []
  }
 ],
 "metadata": {
  "kernelspec": {
   "display_name": "Python 3",
   "language": "python",
   "name": "python3"
  },
  "language_info": {
   "codemirror_mode": {
    "name": "ipython",
    "version": 3
   },
   "file_extension": ".py",
   "mimetype": "text/x-python",
   "name": "python",
   "nbconvert_exporter": "python",
   "pygments_lexer": "ipython3",
   "version": "3.6.5"
  }
 },
 "nbformat": 4,
 "nbformat_minor": 2
}
